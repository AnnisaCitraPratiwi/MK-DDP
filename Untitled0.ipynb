{
  "nbformat": 4,
  "nbformat_minor": 0,
  "metadata": {
    "colab": {
      "provenance": [],
      "authorship_tag": "ABX9TyNS5bUYU6YRnbc5WcRKccxo",
      "include_colab_link": true
    },
    "kernelspec": {
      "name": "python3",
      "display_name": "Python 3"
    },
    "language_info": {
      "name": "python"
    }
  },
  "cells": [
    {
      "cell_type": "markdown",
      "metadata": {
        "id": "view-in-github",
        "colab_type": "text"
      },
      "source": [
        "<a href=\"https://colab.research.google.com/github/AnnisaCitraPratiwi/Annisa-Citra-Pratiwi-/blob/main/Untitled0.ipynb\" target=\"_parent\"><img src=\"https://colab.research.google.com/assets/colab-badge.svg\" alt=\"Open In Colab\"/></a>"
      ]
    },
    {
      "cell_type": "markdown",
      "source": [],
      "metadata": {
        "id": "u_uYEbkICbDB"
      }
    },
    {
      "cell_type": "markdown",
      "source": [
        "#Python Primer\n"
      ],
      "metadata": {
        "id": "eVPPgjxP8qff"
      }
    },
    {
      "cell_type": "markdown",
      "source": [
        "* Input Output\n",
        "\n",
        "\n"
      ],
      "metadata": {
        "id": "EuNzf7qXCeon"
      }
    },
    {
      "cell_type": "code",
      "source": [
        "#output\n",
        "\n",
        "#program Hello World\n",
        "print(\"Hello World\")"
      ],
      "metadata": {
        "colab": {
          "base_uri": "https://localhost:8080/"
        },
        "id": "KotUyeli9Jqz",
        "outputId": "8a2268f2-a1a7-4940-f5db-f027bbd59248"
      },
      "execution_count": 1,
      "outputs": [
        {
          "output_type": "stream",
          "name": "stdout",
          "text": [
            "Hello World\n"
          ]
        }
      ]
    },
    {
      "cell_type": "code",
      "source": [
        "#Input\n",
        "\n",
        "#Input berupa string\n",
        "your_age = input(\"Enter Your Age : \")\n",
        "print(\"Your Age is \", your_age)\n",
        "\n",
        "#Input Berupa bilangan integer\n",
        "your_age = int(input(\"Enter Your Age : \"))\n",
        "print(\"Your Age is \", your_age)\n",
        "\n",
        "#Input berupa bilangan real/float\n",
        "your_height = eval(input(\"Enter your height : \"))\n",
        "print(\"Your Age is\", your_height)\n",
        "\n",
        "#note : your_age itu variabel nya.\n",
        "#kalo mau nginput variabel kita bisa masukin syntax input.\n",
        "#untuk output kasih tanda (\"kata kata nya\")\n",
        "#kemudian ga lupa diikuti variabel nya. jadi (input(\"kata kata\", nama variabel nya))\n",
        "\n",
        "#kalo untuk string gaperlu pake tipe data nya\n",
        "#kalo integer pakein tipe data int sbeelum outputan\n",
        "#kalo tipe data real dan float pakein syntax eval nya.\n",
        "#eval itu untuk bilangan desimal.\n"
      ],
      "metadata": {
        "colab": {
          "base_uri": "https://localhost:8080/"
        },
        "id": "DOzt1Tak9P-F",
        "outputId": "33311cf9-9160-440f-ada9-c6de3ff48b74"
      },
      "execution_count": 5,
      "outputs": [
        {
          "output_type": "stream",
          "name": "stdout",
          "text": [
            "Enter Your Age : 13\n",
            "Your Age is  13\n",
            "Enter Your Age : 3\n",
            "Your Age is  3\n",
            "Enter your height : 199999999999\n",
            "Your Age is 199999999999\n"
          ]
        }
      ]
    },
    {
      "cell_type": "markdown",
      "source": [
        "* Tipe Data"
      ],
      "metadata": {
        "id": "LwpebjTqBTwv"
      }
    },
    {
      "cell_type": "code",
      "source": [
        "C = \"7\"\n",
        "print(C)\n",
        "print(type(C))\n",
        "B = int(C)\n",
        "print(B)\n",
        "print(type(B))"
      ],
      "metadata": {
        "colab": {
          "base_uri": "https://localhost:8080/"
        },
        "id": "zbVCfBHXAs_P",
        "outputId": "4a0b12eb-f981-4254-83f8-c2d6c259c07c"
      },
      "execution_count": 10,
      "outputs": [
        {
          "output_type": "stream",
          "name": "stdout",
          "text": [
            "7\n",
            "<class 'str'>\n",
            "7\n",
            "<class 'int'>\n"
          ]
        }
      ]
    },
    {
      "cell_type": "code",
      "source": [
        "C = \"7\"\n",
        "print(C)\n",
        "print(\"Output\", C)"
      ],
      "metadata": {
        "colab": {
          "base_uri": "https://localhost:8080/"
        },
        "id": "83MS9V5pBhC-",
        "outputId": "f0d2f560-272f-4f1c-ffd4-1ec2be8f5b3f"
      },
      "execution_count": 11,
      "outputs": [
        {
          "output_type": "stream",
          "name": "stdout",
          "text": [
            "7\n",
            "Output 7\n"
          ]
        }
      ]
    },
    {
      "cell_type": "markdown",
      "source": [
        "* Operator\n"
      ],
      "metadata": {
        "id": "5B59LfG8BqVW"
      }
    },
    {
      "cell_type": "code",
      "source": [
        "x = 1\n",
        "y = 5\n",
        "\n",
        "print(x+y) # operator aritmatika\n",
        "print(x**y) # operator aritmatika\n",
        "print(x-y) # operator aritmatika\n",
        "print(x*y) # operator aritmatika\n",
        "#bintang dua kali itu sama kayak pangkat\n",
        "\n",
        "print(x<y) # operator perbandingan\n",
        "print(x==y) # operator perbandingan\n",
        "#== artinya sama dengan"
      ],
      "metadata": {
        "colab": {
          "base_uri": "https://localhost:8080/"
        },
        "id": "5NLsCNYkBs_g",
        "outputId": "d54015c4-7509-4aa5-d6a0-76e88ead6ed3"
      },
      "execution_count": 17,
      "outputs": [
        {
          "output_type": "stream",
          "name": "stdout",
          "text": [
            "6\n",
            "1\n",
            "-4\n",
            "5\n",
            "True\n",
            "False\n"
          ]
        }
      ]
    },
    {
      "cell_type": "markdown",
      "source": [
        "* Kondisional"
      ],
      "metadata": {
        "id": "igF-bIHUC15Z"
      }
    },
    {
      "cell_type": "code",
      "source": [
        "if 7 == C :\n",
        "  print(\"Nilai 7 sama dengan\")\n",
        "  \n",
        "else :\n",
        "    print(\"Nilai 7 tidak sama dengan\")\n",
        "\n",
        "    #diperhatikan identasi, yakni penempatan"
      ],
      "metadata": {
        "colab": {
          "base_uri": "https://localhost:8080/"
        },
        "id": "ccptL3SpC4Of",
        "outputId": "990ada67-0796-4dd3-f4ab-59d0a60c1b31"
      },
      "execution_count": 22,
      "outputs": [
        {
          "output_type": "stream",
          "name": "stdout",
          "text": [
            "Nilai 7 tidak sama dengan\n"
          ]
        }
      ]
    },
    {
      "cell_type": "code",
      "source": [
        "#mencetak perkalian angka 2 dengan angka 0 sampai 10\n",
        "\n",
        "for i in range (10) :\n",
        "  print (i*2)\n",
        "\n",
        "#mencetak perkalian angka 2 dengan angka 1 sampai 10\n",
        "for i in range (1,11):\n",
        "  print(i*2)"
      ],
      "metadata": {
        "colab": {
          "base_uri": "https://localhost:8080/"
        },
        "id": "hmIxJ8odEZyf",
        "outputId": "0e59c520-ca73-42fa-a862-4cf3f0894714"
      },
      "execution_count": 18,
      "outputs": [
        {
          "output_type": "stream",
          "name": "stdout",
          "text": [
            "0\n",
            "2\n",
            "4\n",
            "6\n",
            "8\n",
            "10\n",
            "12\n",
            "14\n",
            "16\n",
            "18\n",
            "2\n",
            "4\n",
            "6\n",
            "8\n",
            "10\n",
            "12\n",
            "14\n",
            "16\n",
            "18\n",
            "20\n"
          ]
        }
      ]
    },
    {
      "cell_type": "code",
      "source": [
        "i = 0 #inisiasi nilai i\n",
        "\n",
        "while i < 5:\n",
        "print(i)\n",
        "i += 1 #operator penugasan"
      ],
      "metadata": {
        "colab": {
          "base_uri": "https://localhost:8080/",
          "height": 131
        },
        "id": "7UrWiGqUFRNy",
        "outputId": "580a5d8a-c71c-4838-ea58-6b1591834877"
      },
      "execution_count": 23,
      "outputs": [
        {
          "output_type": "error",
          "ename": "IndentationError",
          "evalue": "ignored",
          "traceback": [
            "\u001b[0;36m  File \u001b[0;32m\"<ipython-input-23-e4bce9e87f6d>\"\u001b[0;36m, line \u001b[0;32m4\u001b[0m\n\u001b[0;31m    print(i)\u001b[0m\n\u001b[0m    ^\u001b[0m\n\u001b[0;31mIndentationError\u001b[0m\u001b[0;31m:\u001b[0m expected an indented block\n"
          ]
        }
      ]
    },
    {
      "cell_type": "markdown",
      "source": [
        "* Fungsi Tanpa Parameter"
      ],
      "metadata": {
        "id": "WYLwBWnUGR1v"
      }
    },
    {
      "cell_type": "code",
      "source": [
        "# fungsi yang mencetak suatu nilai\n",
        "\n",
        "def cetak_c():\n",
        "print(\"ini fungsi\")\n",
        "\n",
        "# panggil fungsinya\n",
        "\n",
        "cetak_c()"
      ],
      "metadata": {
        "colab": {
          "base_uri": "https://localhost:8080/",
          "height": 131
        },
        "id": "GhJyZL2AFwHn",
        "outputId": "cfa344cd-6b5c-409b-b748-9c26a7836c46"
      },
      "execution_count": 30,
      "outputs": [
        {
          "output_type": "error",
          "ename": "IndentationError",
          "evalue": "ignored",
          "traceback": [
            "\u001b[0;36m  File \u001b[0;32m\"<ipython-input-30-ccdad36bbe13>\"\u001b[0;36m, line \u001b[0;32m4\u001b[0m\n\u001b[0;31m    print(\"ini fungsi\")\u001b[0m\n\u001b[0m    ^\u001b[0m\n\u001b[0;31mIndentationError\u001b[0m\u001b[0;31m:\u001b[0m expected an indented block\n"
          ]
        }
      ]
    },
    {
      "cell_type": "markdown",
      "source": [
        "* Fungsi dengan Parameter"
      ],
      "metadata": {
        "id": "jmfaNLeVGUr2"
      }
    },
    {
      "cell_type": "code",
      "source": [
        "# fungsi yang mencetak suatu nilai\n",
        "\n",
        "def cetak_pangkat_dua(x):\n",
        "  x=x**2\n",
        "  return x\n",
        "\n",
        "print (cetak_pangkat_dua(5))"
      ],
      "metadata": {
        "colab": {
          "base_uri": "https://localhost:8080/"
        },
        "id": "kzsfC0zDGL-L",
        "outputId": "f56b78b5-e9cf-49fb-be9a-987e00c72bae"
      },
      "execution_count": 29,
      "outputs": [
        {
          "output_type": "stream",
          "name": "stdout",
          "text": [
            "25\n"
          ]
        }
      ]
    },
    {
      "cell_type": "markdown",
      "source": [
        "* List "
      ],
      "metadata": {
        "id": "2Vr0MSeEG2xP"
      }
    },
    {
      "cell_type": "code",
      "source": [
        "# list itu sama kayak array\n",
        "\n",
        "#variabel list\n",
        "nilai = [10,20,30,40]\n",
        "\n",
        "#memanggil fungsi len untuk mencetak jumlah item dari list\n",
        "print (len(nilai))\n",
        "\n",
        "#memanggil fungsi max untuk mencetak item terbesar dari list\n",
        "print(max(nilai))"
      ],
      "metadata": {
        "colab": {
          "base_uri": "https://localhost:8080/"
        },
        "id": "jWN1v9ypHAGA",
        "outputId": "693e81a1-477b-416d-9e4e-b014c70258f0"
      },
      "execution_count": 31,
      "outputs": [
        {
          "output_type": "stream",
          "name": "stdout",
          "text": [
            "4\n",
            "40\n"
          ]
        }
      ]
    },
    {
      "cell_type": "markdown",
      "source": [
        "* Eror Handling"
      ],
      "metadata": {
        "id": "xPfN4-_lHQcA"
      }
    },
    {
      "cell_type": "code",
      "source": [
        "x = 10\n",
        "\n",
        "try :\n",
        "  hasil = x/0\n",
        "  print(hasil)\n",
        "\n",
        "except ZeroDivisionError :\n",
        "  print(\"Pembagian dengan 0 tidak dapat dilakukan\")"
      ],
      "metadata": {
        "colab": {
          "base_uri": "https://localhost:8080/"
        },
        "id": "pWB5xECZHSo4",
        "outputId": "01f488bc-11fe-41c1-8010-5ef7ee0588d4"
      },
      "execution_count": 32,
      "outputs": [
        {
          "output_type": "stream",
          "name": "stdout",
          "text": [
            "Pembagian dengan 0 tidak dapat dilakukan\n"
          ]
        }
      ]
    }
  ]
}